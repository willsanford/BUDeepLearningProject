{
 "cells": [
  {
   "cell_type": "code",
   "execution_count": 4,
   "id": "6c7967b1-391a-4f52-8172-beef8fcc8995",
   "metadata": {},
   "outputs": [],
   "source": [
    "import pandas as pd\n",
    "import numpy as np\n",
    "from tqdm.notebook import tqdm\n",
    "from transformers import BertTokenizer, BertForSequenceClassification\n",
    "from transformers import pipeline"
   ]
  },
  {
   "cell_type": "code",
   "execution_count": 5,
   "id": "af18cbf3-d4a6-4ee9-b385-451542e88505",
   "metadata": {},
   "outputs": [],
   "source": [
    "finbert = BertForSequenceClassification.from_pretrained('yiyanghkust/finbert-tone',num_labels=3)\n",
    "tokenizer = BertTokenizer.from_pretrained('yiyanghkust/finbert-tone')\n",
    "nlp = pipeline(\"sentiment-analysis\", model=finbert, tokenizer=tokenizer)"
   ]
  },
  {
   "cell_type": "code",
   "execution_count": 6,
   "id": "f132bf97-56d4-48c0-af97-21317e07902d",
   "metadata": {},
   "outputs": [
    {
     "name": "stdout",
     "output_type": "stream",
     "text": [
      "[{'label': 'Negative', 'score': 0.9966173768043518}, {'label': 'Positive', 'score': 1.0}, {'label': 'Negative', 'score': 0.9999710321426392}, {'label': 'Neutral', 'score': 0.9889441728591919}]\n"
     ]
    }
   ],
   "source": [
    "sentences = [\"there is a shortage of capital, and we need extra financing\",  \n",
    "             \"growth is strong and we have plenty of liquidity\", \n",
    "             \"there are doubts about our finances\", \n",
    "             \"profits are flat\"]\n",
    "results = nlp(sentences)\n",
    "print(results)  #LABEL_0: neutral; LABEL_1: positive; LABEL_2: negative"
   ]
  },
  {
   "cell_type": "code",
   "execution_count": 7,
   "id": "7d02c72a-d68c-4ad8-b7a1-770291c3aa51",
   "metadata": {},
   "outputs": [],
   "source": [
    "sampled_df = pd.read_csv('../data/cleaned/sampled.csv', index_col=0)"
   ]
  },
  {
   "cell_type": "code",
   "execution_count": 8,
   "id": "f7faa45e-bb87-4224-bb93-aa7b6b1247fa",
   "metadata": {},
   "outputs": [
    {
     "data": {
      "application/vnd.jupyter.widget-view+json": {
       "model_id": "889131656bd2444da41a04f767936d62",
       "version_major": 2,
       "version_minor": 0
      },
      "text/plain": [
       "  0%|          | 0/36500 [00:00<?, ?it/s]"
      ]
     },
     "metadata": {},
     "output_type": "display_data"
    }
   ],
   "source": [
    "sentiments = []\n",
    "for message in tqdm(sampled_df.body):\n",
    "    sentiments.append(nlp(message))"
   ]
  },
  {
   "cell_type": "code",
   "execution_count": 10,
   "id": "81f89d41-d47f-4c7d-af80-a3ec36e9681f",
   "metadata": {},
   "outputs": [],
   "source": [
    "sentiments_ = [ 0 if e[0]['label'] == 'Neutral' else e[0]['score'] if e[0]['label'] == 'Positive' else -1 * e[0]['score'] for e in sentiments]\n",
    "sampled_df['sentiment'] = sentiments_"
   ]
  },
  {
   "cell_type": "code",
   "execution_count": 16,
   "id": "1a97fcf5-f143-43e5-926c-8807c6d161f2",
   "metadata": {},
   "outputs": [],
   "source": [
    "sampled_df['d'] = pd.to_datetime(pd.to_datetime(sampled_df['Date']).dt.date)"
   ]
  },
  {
   "cell_type": "code",
   "execution_count": 21,
   "id": "3d5b7ece-35c7-49a0-9e03-5e5d8e7f867d",
   "metadata": {},
   "outputs": [],
   "source": [
    "avg_sentiment = sampled_df.groupby('d').agg({'sentiment': 'mean'}).reset_index()"
   ]
  },
  {
   "cell_type": "code",
   "execution_count": 23,
   "id": "58f71c04-417a-4eaf-ab56-fc7e168fa504",
   "metadata": {},
   "outputs": [
    {
     "data": {
      "text/html": [
       "<div>\n",
       "<style scoped>\n",
       "    .dataframe tbody tr th:only-of-type {\n",
       "        vertical-align: middle;\n",
       "    }\n",
       "\n",
       "    .dataframe tbody tr th {\n",
       "        vertical-align: top;\n",
       "    }\n",
       "\n",
       "    .dataframe thead th {\n",
       "        text-align: right;\n",
       "    }\n",
       "</style>\n",
       "<table border=\"1\" class=\"dataframe\">\n",
       "  <thead>\n",
       "    <tr style=\"text-align: right;\">\n",
       "      <th></th>\n",
       "      <th>d</th>\n",
       "      <th>sentiment</th>\n",
       "    </tr>\n",
       "  </thead>\n",
       "  <tbody>\n",
       "    <tr>\n",
       "      <th>0</th>\n",
       "      <td>2019-01-01</td>\n",
       "      <td>0.104639</td>\n",
       "    </tr>\n",
       "    <tr>\n",
       "      <th>1</th>\n",
       "      <td>2019-01-02</td>\n",
       "      <td>-0.092262</td>\n",
       "    </tr>\n",
       "    <tr>\n",
       "      <th>2</th>\n",
       "      <td>2019-01-03</td>\n",
       "      <td>-0.034344</td>\n",
       "    </tr>\n",
       "    <tr>\n",
       "      <th>3</th>\n",
       "      <td>2019-01-04</td>\n",
       "      <td>0.200733</td>\n",
       "    </tr>\n",
       "    <tr>\n",
       "      <th>4</th>\n",
       "      <td>2019-01-05</td>\n",
       "      <td>0.029053</td>\n",
       "    </tr>\n",
       "    <tr>\n",
       "      <th>...</th>\n",
       "      <td>...</td>\n",
       "      <td>...</td>\n",
       "    </tr>\n",
       "    <tr>\n",
       "      <th>360</th>\n",
       "      <td>2019-12-27</td>\n",
       "      <td>0.081534</td>\n",
       "    </tr>\n",
       "    <tr>\n",
       "      <th>361</th>\n",
       "      <td>2019-12-28</td>\n",
       "      <td>0.029389</td>\n",
       "    </tr>\n",
       "    <tr>\n",
       "      <th>362</th>\n",
       "      <td>2019-12-29</td>\n",
       "      <td>0.088099</td>\n",
       "    </tr>\n",
       "    <tr>\n",
       "      <th>363</th>\n",
       "      <td>2019-12-30</td>\n",
       "      <td>0.147955</td>\n",
       "    </tr>\n",
       "    <tr>\n",
       "      <th>364</th>\n",
       "      <td>2019-12-31</td>\n",
       "      <td>0.131387</td>\n",
       "    </tr>\n",
       "  </tbody>\n",
       "</table>\n",
       "<p>365 rows × 2 columns</p>\n",
       "</div>"
      ],
      "text/plain": [
       "             d  sentiment\n",
       "0   2019-01-01   0.104639\n",
       "1   2019-01-02  -0.092262\n",
       "2   2019-01-03  -0.034344\n",
       "3   2019-01-04   0.200733\n",
       "4   2019-01-05   0.029053\n",
       "..         ...        ...\n",
       "360 2019-12-27   0.081534\n",
       "361 2019-12-28   0.029389\n",
       "362 2019-12-29   0.088099\n",
       "363 2019-12-30   0.147955\n",
       "364 2019-12-31   0.131387\n",
       "\n",
       "[365 rows x 2 columns]"
      ]
     },
     "execution_count": 23,
     "metadata": {},
     "output_type": "execute_result"
    }
   ],
   "source": [
    "avg_sentiment"
   ]
  },
  {
   "cell_type": "code",
   "execution_count": 24,
   "id": "eef11a1d-7236-4282-a589-65bae988f5a4",
   "metadata": {},
   "outputs": [],
   "source": [
    "df = pd.read_csv(\"../data/cleaned/full.csv\", index_col = 0)"
   ]
  },
  {
   "cell_type": "code",
   "execution_count": 25,
   "id": "f428a042-980a-45d9-a1f1-4fd74b273afd",
   "metadata": {},
   "outputs": [],
   "source": [
    "df['d'] = pd.to_datetime(pd.to_datetime(df['Date_']).dt.date)"
   ]
  },
  {
   "cell_type": "code",
   "execution_count": 26,
   "id": "d9af81d6-f555-47d1-ad96-381a1e3ec52a",
   "metadata": {},
   "outputs": [],
   "source": [
    "new_df = df.merge(avg_sentiment[['d', 'sentiment']], on='d', how='left')"
   ]
  },
  {
   "cell_type": "code",
   "execution_count": 29,
   "id": "cf7cfb16-cd96-4671-b8ce-62d17f946bad",
   "metadata": {},
   "outputs": [],
   "source": [
    "new_df.drop(columns = ['sentiment_x'], inplace=True)"
   ]
  },
  {
   "cell_type": "code",
   "execution_count": 34,
   "id": "6f8f37a8-56bb-4444-a97a-b7401ab2f0b7",
   "metadata": {},
   "outputs": [],
   "source": [
    "new_df.rename({'sentiment_y': 'sentiment'}, inplace=True)"
   ]
  },
  {
   "cell_type": "code",
   "execution_count": 35,
   "id": "3843a321-4e87-4f47-9990-e56cb46b56ba",
   "metadata": {},
   "outputs": [],
   "source": [
    "new_df = new_df.drop_duplicates(subset='Date_', keep='first')"
   ]
  },
  {
   "cell_type": "code",
   "execution_count": 36,
   "id": "fb6e18cf-7f0e-40a4-8e28-50ed8ecabf51",
   "metadata": {},
   "outputs": [
    {
     "data": {
      "text/html": [
       "<div>\n",
       "<style scoped>\n",
       "    .dataframe tbody tr th:only-of-type {\n",
       "        vertical-align: middle;\n",
       "    }\n",
       "\n",
       "    .dataframe tbody tr th {\n",
       "        vertical-align: top;\n",
       "    }\n",
       "\n",
       "    .dataframe thead th {\n",
       "        text-align: right;\n",
       "    }\n",
       "</style>\n",
       "<table border=\"1\" class=\"dataframe\">\n",
       "  <thead>\n",
       "    <tr style=\"text-align: right;\">\n",
       "      <th></th>\n",
       "      <th>Date_</th>\n",
       "      <th>s_score</th>\n",
       "      <th>a_score</th>\n",
       "      <th>Open</th>\n",
       "      <th>High</th>\n",
       "      <th>Low</th>\n",
       "      <th>Close</th>\n",
       "      <th>Adj Close</th>\n",
       "      <th>Volume</th>\n",
       "      <th>d_score</th>\n",
       "      <th>sentiment_y</th>\n",
       "    </tr>\n",
       "  </thead>\n",
       "  <tbody>\n",
       "    <tr>\n",
       "      <th>0</th>\n",
       "      <td>2019-01-02</td>\n",
       "      <td>0.110075</td>\n",
       "      <td>-0.023881</td>\n",
       "      <td>2476.959961</td>\n",
       "      <td>2519.489990</td>\n",
       "      <td>2467.469971</td>\n",
       "      <td>2510.030029</td>\n",
       "      <td>2510.030029</td>\n",
       "      <td>3733160000</td>\n",
       "      <td>0.000000</td>\n",
       "      <td>-0.092262</td>\n",
       "    </tr>\n",
       "    <tr>\n",
       "      <th>100</th>\n",
       "      <td>2019-01-03</td>\n",
       "      <td>0.336328</td>\n",
       "      <td>-0.085938</td>\n",
       "      <td>2491.919922</td>\n",
       "      <td>2493.139893</td>\n",
       "      <td>2443.959961</td>\n",
       "      <td>2447.889893</td>\n",
       "      <td>2447.889893</td>\n",
       "      <td>3858830000</td>\n",
       "      <td>-62.140137</td>\n",
       "      <td>-0.034344</td>\n",
       "    </tr>\n",
       "    <tr>\n",
       "      <th>200</th>\n",
       "      <td>2019-01-04</td>\n",
       "      <td>0.516071</td>\n",
       "      <td>-0.126786</td>\n",
       "      <td>2474.330078</td>\n",
       "      <td>2538.070068</td>\n",
       "      <td>2474.330078</td>\n",
       "      <td>2531.939941</td>\n",
       "      <td>2531.939941</td>\n",
       "      <td>4234140000</td>\n",
       "      <td>84.050049</td>\n",
       "      <td>0.200733</td>\n",
       "    </tr>\n",
       "    <tr>\n",
       "      <th>300</th>\n",
       "      <td>2019-01-07</td>\n",
       "      <td>0.485776</td>\n",
       "      <td>-0.101724</td>\n",
       "      <td>2535.610107</td>\n",
       "      <td>2566.159912</td>\n",
       "      <td>2524.560059</td>\n",
       "      <td>2549.689941</td>\n",
       "      <td>2549.689941</td>\n",
       "      <td>4133120000</td>\n",
       "      <td>17.750000</td>\n",
       "      <td>0.019103</td>\n",
       "    </tr>\n",
       "    <tr>\n",
       "      <th>400</th>\n",
       "      <td>2019-01-08</td>\n",
       "      <td>0.398810</td>\n",
       "      <td>-0.068254</td>\n",
       "      <td>2568.110107</td>\n",
       "      <td>2579.820068</td>\n",
       "      <td>2547.560059</td>\n",
       "      <td>2574.409912</td>\n",
       "      <td>2574.409912</td>\n",
       "      <td>4120060000</td>\n",
       "      <td>24.719971</td>\n",
       "      <td>0.060482</td>\n",
       "    </tr>\n",
       "    <tr>\n",
       "      <th>...</th>\n",
       "      <td>...</td>\n",
       "      <td>...</td>\n",
       "      <td>...</td>\n",
       "      <td>...</td>\n",
       "      <td>...</td>\n",
       "      <td>...</td>\n",
       "      <td>...</td>\n",
       "      <td>...</td>\n",
       "      <td>...</td>\n",
       "      <td>...</td>\n",
       "      <td>...</td>\n",
       "    </tr>\n",
       "    <tr>\n",
       "      <th>24700</th>\n",
       "      <td>2019-12-24</td>\n",
       "      <td>0.575968</td>\n",
       "      <td>-0.114516</td>\n",
       "      <td>3225.449951</td>\n",
       "      <td>3226.429932</td>\n",
       "      <td>3220.510010</td>\n",
       "      <td>3223.379883</td>\n",
       "      <td>3223.379883</td>\n",
       "      <td>1296530000</td>\n",
       "      <td>-0.630127</td>\n",
       "      <td>0.057784</td>\n",
       "    </tr>\n",
       "    <tr>\n",
       "      <th>24800</th>\n",
       "      <td>2019-12-26</td>\n",
       "      <td>0.642647</td>\n",
       "      <td>-0.122059</td>\n",
       "      <td>3227.199951</td>\n",
       "      <td>3240.080078</td>\n",
       "      <td>3227.199951</td>\n",
       "      <td>3239.909912</td>\n",
       "      <td>3239.909912</td>\n",
       "      <td>2164540000</td>\n",
       "      <td>16.530029</td>\n",
       "      <td>0.162792</td>\n",
       "    </tr>\n",
       "    <tr>\n",
       "      <th>24900</th>\n",
       "      <td>2019-12-27</td>\n",
       "      <td>0.365909</td>\n",
       "      <td>-0.063636</td>\n",
       "      <td>3247.229980</td>\n",
       "      <td>3247.929932</td>\n",
       "      <td>3234.370117</td>\n",
       "      <td>3240.020020</td>\n",
       "      <td>3240.020020</td>\n",
       "      <td>2429150000</td>\n",
       "      <td>0.110107</td>\n",
       "      <td>0.081534</td>\n",
       "    </tr>\n",
       "    <tr>\n",
       "      <th>25000</th>\n",
       "      <td>2019-12-30</td>\n",
       "      <td>0.632090</td>\n",
       "      <td>-0.093284</td>\n",
       "      <td>3240.090088</td>\n",
       "      <td>3240.919922</td>\n",
       "      <td>3216.570068</td>\n",
       "      <td>3221.290039</td>\n",
       "      <td>3221.290039</td>\n",
       "      <td>3021720000</td>\n",
       "      <td>-18.729980</td>\n",
       "      <td>0.147955</td>\n",
       "    </tr>\n",
       "    <tr>\n",
       "      <th>25100</th>\n",
       "      <td>2019-12-31</td>\n",
       "      <td>0.548684</td>\n",
       "      <td>-0.094737</td>\n",
       "      <td>3215.179932</td>\n",
       "      <td>3231.719971</td>\n",
       "      <td>3212.030029</td>\n",
       "      <td>3230.780029</td>\n",
       "      <td>3230.780029</td>\n",
       "      <td>2894760000</td>\n",
       "      <td>9.489990</td>\n",
       "      <td>0.131387</td>\n",
       "    </tr>\n",
       "  </tbody>\n",
       "</table>\n",
       "<p>252 rows × 11 columns</p>\n",
       "</div>"
      ],
      "text/plain": [
       "            Date_   s_score   a_score         Open         High          Low  \\\n",
       "0      2019-01-02  0.110075 -0.023881  2476.959961  2519.489990  2467.469971   \n",
       "100    2019-01-03  0.336328 -0.085938  2491.919922  2493.139893  2443.959961   \n",
       "200    2019-01-04  0.516071 -0.126786  2474.330078  2538.070068  2474.330078   \n",
       "300    2019-01-07  0.485776 -0.101724  2535.610107  2566.159912  2524.560059   \n",
       "400    2019-01-08  0.398810 -0.068254  2568.110107  2579.820068  2547.560059   \n",
       "...           ...       ...       ...          ...          ...          ...   \n",
       "24700  2019-12-24  0.575968 -0.114516  3225.449951  3226.429932  3220.510010   \n",
       "24800  2019-12-26  0.642647 -0.122059  3227.199951  3240.080078  3227.199951   \n",
       "24900  2019-12-27  0.365909 -0.063636  3247.229980  3247.929932  3234.370117   \n",
       "25000  2019-12-30  0.632090 -0.093284  3240.090088  3240.919922  3216.570068   \n",
       "25100  2019-12-31  0.548684 -0.094737  3215.179932  3231.719971  3212.030029   \n",
       "\n",
       "             Close    Adj Close      Volume    d_score  sentiment_y  \n",
       "0      2510.030029  2510.030029  3733160000   0.000000    -0.092262  \n",
       "100    2447.889893  2447.889893  3858830000 -62.140137    -0.034344  \n",
       "200    2531.939941  2531.939941  4234140000  84.050049     0.200733  \n",
       "300    2549.689941  2549.689941  4133120000  17.750000     0.019103  \n",
       "400    2574.409912  2574.409912  4120060000  24.719971     0.060482  \n",
       "...            ...          ...         ...        ...          ...  \n",
       "24700  3223.379883  3223.379883  1296530000  -0.630127     0.057784  \n",
       "24800  3239.909912  3239.909912  2164540000  16.530029     0.162792  \n",
       "24900  3240.020020  3240.020020  2429150000   0.110107     0.081534  \n",
       "25000  3221.290039  3221.290039  3021720000 -18.729980     0.147955  \n",
       "25100  3230.780029  3230.780029  2894760000   9.489990     0.131387  \n",
       "\n",
       "[252 rows x 11 columns]"
      ]
     },
     "execution_count": 36,
     "metadata": {},
     "output_type": "execute_result"
    }
   ],
   "source": [
    "new_df"
   ]
  },
  {
   "cell_type": "code",
   "execution_count": 37,
   "id": "46abf850-04ea-4812-932e-5ee893e73885",
   "metadata": {},
   "outputs": [],
   "source": [
    "new_df.to_csv(\"../data/cleaned/full.csv\")"
   ]
  },
  {
   "cell_type": "code",
   "execution_count": null,
   "id": "cf1fffbc-8051-4b5c-816b-1501661287a7",
   "metadata": {},
   "outputs": [],
   "source": []
  }
 ],
 "metadata": {
  "kernelspec": {
   "display_name": "Python 3 (ipykernel)",
   "language": "python",
   "name": "python3"
  },
  "language_info": {
   "codemirror_mode": {
    "name": "ipython",
    "version": 3
   },
   "file_extension": ".py",
   "mimetype": "text/x-python",
   "name": "python",
   "nbconvert_exporter": "python",
   "pygments_lexer": "ipython3",
   "version": "3.10.12"
  }
 },
 "nbformat": 4,
 "nbformat_minor": 5
}
