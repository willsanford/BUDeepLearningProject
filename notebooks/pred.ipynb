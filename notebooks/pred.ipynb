{
 "cells": [
  {
   "cell_type": "code",
   "execution_count": 1,
   "id": "414c8ccb-4b36-419c-ab26-9f7c620b0e32",
   "metadata": {},
   "outputs": [],
   "source": [
    "import torch\n",
    "import torch.nn as nn\n",
    "from torch.autograd import Variable \n",
    "import torch.optim as optim\n",
    "from torch.utils.data import Dataset, DataLoader\n",
    "from sklearn.preprocessing import MinMaxScaler\n",
    "import numpy as np\n",
    "import pandas as pd\n",
    "import matplotlib.pyplot as plt\n",
    "from tqdm.notebook import tqdm"
   ]
  },
  {
   "cell_type": "code",
   "execution_count": 2,
   "id": "49cad72c-dd47-41a3-baaf-83f0205ef7c0",
   "metadata": {},
   "outputs": [],
   "source": [
    "df = pd.read_csv('../data/cleaned/full.csv', index_col=0)"
   ]
  },
  {
   "cell_type": "code",
   "execution_count": 3,
   "id": "fa5a13fc-8c34-43e8-9595-9194a4c6fa70",
   "metadata": {},
   "outputs": [],
   "source": [
    "target = 'Adj Close'\n",
    "features = ['Open', 'High', 'Low', 'Close', 'Volume']\n",
    "extra_features ="
   ]
  },
  {
   "cell_type": "code",
   "execution_count": 6,
   "id": "48e4026a-b030-4f6c-9d29-4f088738745b",
   "metadata": {},
   "outputs": [],
   "source": [
    "runs = [\n",
    "    ('No Sentiment', []),\n",
    "    ('GPT3.5 Sentiment', ['s_score', 'a_score']),\n",
    "    ('Finbert Sentiment',  ['sentiment'])\n",
    "]"
   ]
  },
  {
   "cell_type": "code",
   "execution_count": 9,
   "id": "f9a12e99-d832-4776-b560-d344825c22c4",
   "metadata": {},
   "outputs": [
    {
     "name": "stdout",
     "output_type": "stream",
     "text": [
      "0\n",
      "1\n",
      "2\n"
     ]
    }
   ],
   "source": [
    "for i, (name, extra_columns) in enumerate(runs):\n",
    "    print(i)"
   ]
  },
  {
   "cell_type": "code",
   "execution_count": 4,
   "id": "0f6df607-5978-4db7-9167-d6aa4f33f69f",
   "metadata": {},
   "outputs": [],
   "source": [
    "y_ = df[target].values\n",
    "X1_ = df[features].values\n",
    "X2_ = df[features + extra_features]"
   ]
  },
  {
   "cell_type": "code",
   "execution_count": 5,
   "id": "34d2a282-e834-43dc-a899-0fa7d01b5d70",
   "metadata": {},
   "outputs": [],
   "source": [
    "feature_scaler1 = MinMaxScaler(feature_range=(0, 1))\n",
    "X1 = feature_scaler1.fit_transform(X1_)\n",
    "\n",
    "feature_scaler2 = MinMaxScaler(feature_range=(0, 1))\n",
    "X2 = feature_scaler2.fit_transform(X2_)\n",
    "\n",
    "target_scaler = MinMaxScaler(feature_range=(0, 1))\n",
    "y = target_scaler.fit_transform(y_.reshape(-1, 1))"
   ]
  },
  {
   "cell_type": "code",
   "execution_count": 6,
   "id": "eb0d8316-2a7c-44cb-9fcc-8ba7c319f0a4",
   "metadata": {},
   "outputs": [],
   "source": [
    "def create_sequences(features1, features2, target, time_steps):\n",
    "    X1s, X2s, ys = [], [], []\n",
    "    for i in range(len(features1) - time_steps):\n",
    "        X1s.append(features1[i:(i + time_steps)])\n",
    "        X2s.append(features2[i:(i + time_steps)])\n",
    "        ys.append(target[i + time_steps])\n",
    "    return np.array(X1s), np.array(X2s), np.array(ys)\n",
    "\n",
    "X1, X2, y = create_sequences(X1, X2, y, 5)"
   ]
  },
  {
   "cell_type": "code",
   "execution_count": 7,
   "id": "f1065f72-c83c-4b0a-86a2-db65022343fd",
   "metadata": {},
   "outputs": [],
   "source": [
    "X1_tensor = torch.tensor(X1, dtype=torch.float32)\n",
    "X2_tensor = torch.tensor(X2, dtype=torch.float32)\n",
    "y_tensor = torch.tensor(y, dtype=torch.float32)"
   ]
  },
  {
   "cell_type": "code",
   "execution_count": 8,
   "id": "e113c7ae-227e-409b-ab9f-85859e7cb998",
   "metadata": {},
   "outputs": [],
   "source": [
    "inds = np.arange(X1_tensor.shape[0])"
   ]
  },
  {
   "cell_type": "code",
   "execution_count": 9,
   "id": "a72bec25-e00d-41d5-b7d9-3a271b533989",
   "metadata": {},
   "outputs": [],
   "source": [
    "test_size = 0.5\n",
    "split_ind = int(inds.shape[0] * test_size)"
   ]
  },
  {
   "cell_type": "code",
   "execution_count": 10,
   "id": "0d52e3e3-52e3-4556-8724-488892fb465f",
   "metadata": {},
   "outputs": [],
   "source": [
    "X1_test = X1_tensor[inds[:split_ind]]\n",
    "X1_train = X1_tensor[inds[split_ind:]]\n",
    "\n",
    "X2_test = X2_tensor[inds[:split_ind]]\n",
    "X2_train = X2_tensor[inds[split_ind:]]\n",
    "\n",
    "y_test = y_tensor[inds[:split_ind]]\n",
    "y_train = y_tensor[inds[split_ind:]]"
   ]
  },
  {
   "cell_type": "code",
   "execution_count": 11,
   "id": "550dbc2c-d15c-4907-8346-02b10c0e343f",
   "metadata": {},
   "outputs": [],
   "source": [
    "# Create PyTorch DataLoaders\n",
    "batch_size = 4\n",
    "train_data1 = torch.utils.data.TensorDataset(X1_train, y_train)\n",
    "train_loader1 = torch.utils.data.DataLoader(train_data1, shuffle=False, batch_size=batch_size)\n",
    "\n",
    "test_data1 = torch.utils.data.TensorDataset(X1_test, y_test)\n",
    "test_loader1 = torch.utils.data.DataLoader(test_data1, shuffle=False, batch_size=1)\n",
    "\n",
    "train_data2 = torch.utils.data.TensorDataset(X2_train, y_train)\n",
    "train_loader2 = torch.utils.data.DataLoader(train_data2, shuffle=False, batch_size=batch_size)\n",
    "\n",
    "test_data2 = torch.utils.data.TensorDataset(X2_test, y_test)\n",
    "test_loader2 = torch.utils.data.DataLoader(test_data2, shuffle=False, batch_size=1)"
   ]
  },
  {
   "cell_type": "markdown",
   "id": "17986c8b-7796-45d0-bf70-95c3730ec8c9",
   "metadata": {},
   "source": [
    "## Using LSTM\n"
   ]
  },
  {
   "cell_type": "code",
   "execution_count": 12,
   "id": "5294e94c-99f6-4cb4-b869-6e6973eb7ce9",
   "metadata": {},
   "outputs": [],
   "source": [
    "import torch\n",
    "import torch.nn as nn\n",
    "import torch.optim as optim\n",
    "\n",
    "# Define the LSTM Model\n",
    "class LSTMModel(nn.Module):\n",
    "    def __init__(self, num_features, hidden_layer_size, output_size, num_layers):\n",
    "        super(LSTMModel, self).__init__()\n",
    "        self.num_features = num_features\n",
    "        self.hidden_layer_size = hidden_layer_size\n",
    "        self.num_layers = num_layers\n",
    "        \n",
    "        # The LSTM takes feature sequences as inputs and outputs hidden states\n",
    "        # with dimensionality hidden_layer_size.\n",
    "        self.lstm = nn.LSTM(input_size=num_features,\n",
    "                            hidden_size=hidden_layer_size,\n",
    "                            num_layers=num_layers,\n",
    "                            batch_first=True)\n",
    "        \n",
    "        # The linear layer that maps from hidden state space to output space\n",
    "        self.linear = nn.Linear(hidden_layer_size, output_size)\n",
    "\n",
    "    def forward(self, input_seq):\n",
    "        # Forward pass through LSTM layer\n",
    "        # shapes (batch, seq_len, num_features)\n",
    "        lstm_out, _ = self.lstm(input_seq)\n",
    "        \n",
    "        # Only take the output from the final timetep\n",
    "        # Can pass on the entirety of lstm_out to the next layer if it is a seq2seq prediction\n",
    "        # Here we use lstm_out[:, -1, :] just for the last time step\n",
    "        last_time_step = lstm_out[:, -1, :]\n",
    "        \n",
    "        # Pass the last time step output to a Linear layer with 'output_size' units\n",
    "        y_pred = self.linear(last_time_step)\n",
    "        return y_pred\n",
    "\n",
    "# Instantiate the model, define the loss function and the optimizer\n",
    "num_features_1 = 5  # Number of features for each day in the sequence\n",
    "num_features_2 = 7\n",
    "hidden_layer_size = 50  # Number of features in hidden state\n",
    "output_size = 1  # Predicting 'Adj Close'\n",
    "num_layers = 2  # Number of recurrent layers\n",
    "\n",
    "model_1 = LSTMModel(num_features_1, hidden_layer_size, output_size, num_layers)\n",
    "model_2 = LSTMModel(num_features_2, hidden_layer_size, output_size, num_layers)\n",
    "\n",
    "loss_function = nn.MSELoss()\n",
    "optimizer_1 = optim.Adam(model_1.parameters(), lr=0.001)\n",
    "optimizer_2 = optim.Adam(model_2.parameters(), lr=0.001)"
   ]
  },
  {
   "cell_type": "code",
   "execution_count": 13,
   "id": "02064581-b0cc-404e-b113-72090794815b",
   "metadata": {},
   "outputs": [
    {
     "data": {
      "application/vnd.jupyter.widget-view+json": {
       "model_id": "bd52eafb88234a30ade9c3e23da712ac",
       "version_major": 2,
       "version_minor": 0
      },
      "text/plain": [
       "  0%|          | 0/50 [00:00<?, ?it/s]"
      ]
     },
     "metadata": {},
     "output_type": "display_data"
    }
   ],
   "source": [
    "# Assume you have a model, loss_function, optimizer, train_loader defined\n",
    "model_1.train()  # Set the model to training mode\n",
    "\n",
    "num_epochs = 50\n",
    "train_losses = []\n",
    "\n",
    "for epoch in tqdm(range(num_epochs)):\n",
    "    model_1.train()\n",
    "    running_loss = 0.0\n",
    "    for X_batch, y_batch in train_loader1:\n",
    "        optimizer_1.zero_grad()  # Clear the gradients\n",
    "        y_pred = model_1(X_batch)  # Forward pass: compute the output\n",
    "        loss = loss_function(y_pred, y_batch)  # Compute the loss\n",
    "        loss.backward()  # Backward pass: compute the gradient\n",
    "        optimizer_1.step()  # Update the weights\n",
    "        running_loss += loss.item() * X_batch.size(0)  # Multiply by batch size\n",
    "    epoch_loss = running_loss / len(train_loader1.dataset)\n",
    "    train_losses.append(epoch_loss)"
   ]
  },
  {
   "cell_type": "code",
   "execution_count": 14,
   "id": "c0306468-3ea7-488b-b3df-798a6f3fbbd5",
   "metadata": {},
   "outputs": [
    {
     "data": {
      "application/vnd.jupyter.widget-view+json": {
       "model_id": "344a9fafe70e4f508322e35334f68661",
       "version_major": 2,
       "version_minor": 0
      },
      "text/plain": [
       "  0%|          | 0/50 [00:00<?, ?it/s]"
      ]
     },
     "metadata": {},
     "output_type": "display_data"
    }
   ],
   "source": [
    "# Assume you have a model, loss_function, optimizer, train_loader defined\n",
    "model_2.train()  # Set the model to training mode\n",
    "\n",
    "num_epochs = 50\n",
    "train_losses = []\n",
    "\n",
    "for epoch in tqdm(range(num_epochs)):\n",
    "    model_2.train()\n",
    "    running_loss = 0.0\n",
    "    for X_batch, y_batch in train_loader2:\n",
    "        optimizer_2.zero_grad()  # Clear the gradients\n",
    "        y_pred = model_2(X_batch)  # Forward pass: compute the output\n",
    "        loss = loss_function(y_pred, y_batch)  # Compute the loss\n",
    "        loss.backward()  # Backward pass: compute the gradient\n",
    "        optimizer_2.step()  # Update the weights\n",
    "        running_loss += loss.item() * X_batch.size(0)  # Multiply by batch size\n",
    "    epoch_loss = running_loss / len(train_loader2.dataset)\n",
    "    train_losses.append(epoch_loss)"
   ]
  },
  {
   "cell_type": "code",
   "execution_count": 17,
   "id": "0fbd270a-15f2-4148-b53c-37ba01e6efc2",
   "metadata": {},
   "outputs": [
    {
     "data": {
      "image/png": "[encoded data removed]",
      "text/plain": [
       "<Figure size 600x200 with 1 Axes>"
      ]
     },
     "metadata": {},
     "output_type": "display_data"
    }
   ],
   "source": [
    "# Set the model to evaluation mode\n",
    "model_1.eval()\n",
    "\n",
    "# To track the actuals and predictions\n",
    "actuals = []\n",
    "predictions = []\n",
    "\n",
    "with torch.no_grad():  # No need to track the gradients\n",
    "    for X_batch, y_batch in test_loader1:\n",
    "        # Forward pass: compute predicted y by passing X to the model.\n",
    "        y_test_pred = model_1(X_batch)\n",
    "        \n",
    "        # Store predictions and actuals for later analysis\n",
    "        actuals.extend(y_batch.numpy())\n",
    "        predictions.extend(y_test_pred.numpy())\n",
    "\n",
    "# Convert lists to numpy arrays\n",
    "actuals = np.array(actuals)\n",
    "predictions = np.array(predictions)\n",
    "\n",
    "# Inverse transform the predictions and actuals\n",
    "actuals_scaled_back = target_scaler.inverse_transform(actuals)\n",
    "predictions_scaled_back = target_scaler.inverse_transform(predictions)\n",
    "\n",
    "\n",
    "# Set the model to evaluation mode\n",
    "model_2.eval()\n",
    "\n",
    "# To track the actuals and predictions\n",
    "actuals_2 = []\n",
    "predictions_2 = []\n",
    "\n",
    "with torch.no_grad():  # No need to track the gradients\n",
    "    for X_batch, y_batch in test_loader2:\n",
    "        # Forward pass: compute predicted y by passing X to the model.\n",
    "        y_test_pred = model_2(X_batch)\n",
    "        \n",
    "        # Store predictions and actuals for later analysis\n",
    "        actuals_2.extend(y_batch.numpy())\n",
    "        predictions_2.extend(y_test_pred.numpy())\n",
    "\n",
    "# Convert lists to numpy arrays\n",
    "actuals_2 = np.array(actuals_2)\n",
    "predictions_2 = np.array(predictions_2)\n",
    "\n",
    "# Inverse transform the predictions and actuals\n",
    "actuals_scaled_back_2 = target_scaler.inverse_transform(actuals_2)\n",
    "predictions_scaled_back_2 = target_scaler.inverse_transform(predictions_2)\n",
    "\n",
    "# Plotting\n",
    "plt.figure(figsize=(6, 2))\n",
    "plt.plot(actuals_scaled_back, label='Actual')\n",
    "plt.plot(predictions_scaled_back - 100, label='Predicted - Without Sentiment')\n",
    "plt.plot(predictions_scaled_back_2 - 100, label='Predicted - With Sentiment')\n",
    "plt.xlabel('Sample')\n",
    "plt.ylabel('Adjusted Close Value')\n",
    "plt.legend()\n",
    "\n",
    "plt.savefig('../imgs/LSTM_pred.png')\n",
    "plt.show()\n"
   ]
  },
  {
   "cell_type": "code",
   "execution_count": 18,
   "id": "87d6bc8d-6aa9-413e-9013-e37e4d467345",
   "metadata": {},
   "outputs": [
    {
     "ename": "NameError",
     "evalue": "name 'model' is not defined",
     "output_type": "error",
     "traceback": [
      "\u001b[0;31m---------------------------------------------------------------------------\u001b[0m",
      "\u001b[0;31mNameError\u001b[0m                                 Traceback (most recent call last)",
      "Cell \u001b[0;32mIn[18], line 2\u001b[0m\n\u001b[1;32m      1\u001b[0m \u001b[38;5;66;03m# Set the model to evaluation mode\u001b[39;00m\n\u001b[0;32m----> 2\u001b[0m \u001b[43mmodel\u001b[49m\u001b[38;5;241m.\u001b[39meval()\n\u001b[1;32m      4\u001b[0m \u001b[38;5;66;03m# To track the actuals and predictions\u001b[39;00m\n\u001b[1;32m      5\u001b[0m actuals \u001b[38;5;241m=\u001b[39m []\n",
      "\u001b[0;31mNameError\u001b[0m: name 'model' is not defined"
     ]
    }
   ],
   "source": [
    "# Set the model to evaluation mode\n",
    "model.eval()\n",
    "\n",
    "# To track the actuals and predictions\n",
    "actuals = []\n",
    "predictions = []\n",
    "\n",
    "with torch.no_grad():  # No need to track the gradients\n",
    "    for X_batch, y_batch in test_loader1:\n",
    "        # Forward pass: compute predicted y by passing X to the model.\n",
    "        y_test_pred = model(X_batch)\n",
    "        \n",
    "        # Store predictions and actuals for later analysis\n",
    "        actuals.extend(y_batch.numpy())\n",
    "        predictions.extend(y_test_pred.numpy())\n",
    "\n",
    "# Convert lists to numpy arrays\n",
    "actuals = np.array(actuals)\n",
    "predictions = np.array(predictions)\n",
    "\n",
    "# Inverse transform the predictions and actuals\n",
    "actuals_scaled_back = target_scaler.inverse_transform(actuals)\n",
    "predictions_scaled_back = target_scaler.inverse_transform(predictions)\n",
    "\n",
    "\n",
    "# Set the model to evaluation mode\n",
    "model_2.eval()\n",
    "\n",
    "# To track the actuals and predictions\n",
    "actuals_2 = []\n",
    "predictions_2 = []\n",
    "\n",
    "with torch.no_grad():  # No need to track the gradients\n",
    "    for X_batch, y_batch in test_loader2:\n",
    "        # Forward pass: compute predicted y by passing X to the model.\n",
    "        y_test_pred = model_2(X_batch)\n",
    "        \n",
    "        # Store predictions and actuals for later analysis\n",
    "        actuals_2.extend(y_batch.numpy())\n",
    "        predictions_2.extend(y_test_pred.numpy())\n",
    "\n",
    "# Convert lists to numpy arrays\n",
    "actuals_2 = np.array(actuals_2)\n",
    "predictions_2 = np.array(predictions_2)\n",
    "\n",
    "# Inverse transform the predictions and actuals\n",
    "actuals_scaled_back_2 = target_scaler.inverse_transform(actuals_2)\n",
    "predictions_scaled_back_2 = target_scaler.inverse_transform(predictions_2)\n",
    "\n",
    "# Plotting\n",
    "plt.figure(figsize=(6, 2))\n",
    "plt.plot(actuals_scaled_back, label='Actual')\n",
    "plt.plot(predictions_scaled_back - 100, label='Predicted - Without Sentiment')\n",
    "plt.plot(predictions_scaled_back_2 - 100, label='Predicted - With Sentiment')\n",
    "plt.xlabel('Sample')\n",
    "plt.ylabel('Adjusted Close Value')\n",
    "plt.legend()\n",
    "\n",
    "plt.savefig('../imgs/RNN_pred.png')\n",
    "\n",
    "plt.show()"
   ]
  },
  {
   "cell_type": "code",
   "execution_count": null,
   "id": "3d7f9f48-8242-4058-8fd2-1b662b7f7a80",
   "metadata": {},
   "outputs": [],
   "source": []
  },
  {
   "cell_type": "code",
   "execution_count": null,
   "id": "ffbab5cb-d534-493d-bf2c-fa265f066aa5",
   "metadata": {},
   "outputs": [],
   "source": []
  }
 ],
 "metadata": {
  "kernelspec": {
   "display_name": "Python 3 (ipykernel)",
   "language": "python",
   "name": "python3"
  },
  "language_info": {
   "codemirror_mode": {
    "name": "ipython",
    "version": 3
   },
   "file_extension": ".py",
   "mimetype": "text/x-python",
   "name": "python",
   "nbconvert_exporter": "python",
   "pygments_lexer": "ipython3",
   "version": "3.10.12"
  }
 },
 "nbformat": 4,
 "nbformat_minor": 5
}
